{
  "cells": [
    {
      "cell_type": "markdown",
      "metadata": {
        "id": "92bJ053Wjhg4"
      },
      "source": [
        "# Polynomial Regression - Lab"
      ]
    },
    {
      "cell_type": "markdown",
      "metadata": {
        "id": "smwhXnhVjhg6"
      },
      "source": [
        "## Introduction"
      ]
    },
    {
      "cell_type": "markdown",
      "metadata": {
        "id": "4FrxH9Ynjhg7"
      },
      "source": [
        "In this lab, you'll practice your knowledge on adding polynomial terms to your regression model!"
      ]
    },
    {
      "cell_type": "markdown",
      "metadata": {
        "id": "ueChofoijhg8"
      },
      "source": [
        "## Objectives"
      ]
    },
    {
      "cell_type": "markdown",
      "metadata": {
        "id": "b9h459hKjhg9"
      },
      "source": [
        "You will be able to:\n",
        "\n",
        "* Determine if polynomial regression would be useful for a specific model or set of data\n",
        "* Create polynomial terms out of independent variables in linear regression"
      ]
    },
    {
      "cell_type": "markdown",
      "metadata": {
        "id": "EQMFeV3Mjhg-"
      },
      "source": [
        "## Dataset"
      ]
    },
    {
      "cell_type": "markdown",
      "metadata": {
        "id": "v28NBavljhg_"
      },
      "source": [
        "For this lab you'll be using some generated data:"
      ]
    },
    {
      "cell_type": "code",
      "execution_count": 1,
      "metadata": {
        "colab": {
          "base_uri": "https://localhost:8080/",
          "height": 206
        },
        "id": "ka7EgcvEjhhA",
        "outputId": "01d20001-bda6-4750-8f2c-8f046ff3be01"
      },
      "outputs": [
        {
          "output_type": "execute_result",
          "data": {
            "text/plain": [
              "          x         y\n",
              "0  0.000000  0.942870\n",
              "1  0.121212 -2.261629\n",
              "2  0.242424  3.100749\n",
              "3  0.363636 -0.285446\n",
              "4  0.484848 -1.012210"
            ],
            "text/html": [
              "\n",
              "  <div id=\"df-5e9617d4-8ad7-445a-bfc8-1e198d05395a\" class=\"colab-df-container\">\n",
              "    <div>\n",
              "<style scoped>\n",
              "    .dataframe tbody tr th:only-of-type {\n",
              "        vertical-align: middle;\n",
              "    }\n",
              "\n",
              "    .dataframe tbody tr th {\n",
              "        vertical-align: top;\n",
              "    }\n",
              "\n",
              "    .dataframe thead th {\n",
              "        text-align: right;\n",
              "    }\n",
              "</style>\n",
              "<table border=\"1\" class=\"dataframe\">\n",
              "  <thead>\n",
              "    <tr style=\"text-align: right;\">\n",
              "      <th></th>\n",
              "      <th>x</th>\n",
              "      <th>y</th>\n",
              "    </tr>\n",
              "  </thead>\n",
              "  <tbody>\n",
              "    <tr>\n",
              "      <th>0</th>\n",
              "      <td>0.000000</td>\n",
              "      <td>0.942870</td>\n",
              "    </tr>\n",
              "    <tr>\n",
              "      <th>1</th>\n",
              "      <td>0.121212</td>\n",
              "      <td>-2.261629</td>\n",
              "    </tr>\n",
              "    <tr>\n",
              "      <th>2</th>\n",
              "      <td>0.242424</td>\n",
              "      <td>3.100749</td>\n",
              "    </tr>\n",
              "    <tr>\n",
              "      <th>3</th>\n",
              "      <td>0.363636</td>\n",
              "      <td>-0.285446</td>\n",
              "    </tr>\n",
              "    <tr>\n",
              "      <th>4</th>\n",
              "      <td>0.484848</td>\n",
              "      <td>-1.012210</td>\n",
              "    </tr>\n",
              "  </tbody>\n",
              "</table>\n",
              "</div>\n",
              "    <div class=\"colab-df-buttons\">\n",
              "\n",
              "  <div class=\"colab-df-container\">\n",
              "    <button class=\"colab-df-convert\" onclick=\"convertToInteractive('df-5e9617d4-8ad7-445a-bfc8-1e198d05395a')\"\n",
              "            title=\"Convert this dataframe to an interactive table.\"\n",
              "            style=\"display:none;\">\n",
              "\n",
              "  <svg xmlns=\"http://www.w3.org/2000/svg\" height=\"24px\" viewBox=\"0 -960 960 960\">\n",
              "    <path d=\"M120-120v-720h720v720H120Zm60-500h600v-160H180v160Zm220 220h160v-160H400v160Zm0 220h160v-160H400v160ZM180-400h160v-160H180v160Zm440 0h160v-160H620v160ZM180-180h160v-160H180v160Zm440 0h160v-160H620v160Z\"/>\n",
              "  </svg>\n",
              "    </button>\n",
              "\n",
              "  <style>\n",
              "    .colab-df-container {\n",
              "      display:flex;\n",
              "      gap: 12px;\n",
              "    }\n",
              "\n",
              "    .colab-df-convert {\n",
              "      background-color: #E8F0FE;\n",
              "      border: none;\n",
              "      border-radius: 50%;\n",
              "      cursor: pointer;\n",
              "      display: none;\n",
              "      fill: #1967D2;\n",
              "      height: 32px;\n",
              "      padding: 0 0 0 0;\n",
              "      width: 32px;\n",
              "    }\n",
              "\n",
              "    .colab-df-convert:hover {\n",
              "      background-color: #E2EBFA;\n",
              "      box-shadow: 0px 1px 2px rgba(60, 64, 67, 0.3), 0px 1px 3px 1px rgba(60, 64, 67, 0.15);\n",
              "      fill: #174EA6;\n",
              "    }\n",
              "\n",
              "    .colab-df-buttons div {\n",
              "      margin-bottom: 4px;\n",
              "    }\n",
              "\n",
              "    [theme=dark] .colab-df-convert {\n",
              "      background-color: #3B4455;\n",
              "      fill: #D2E3FC;\n",
              "    }\n",
              "\n",
              "    [theme=dark] .colab-df-convert:hover {\n",
              "      background-color: #434B5C;\n",
              "      box-shadow: 0px 1px 3px 1px rgba(0, 0, 0, 0.15);\n",
              "      filter: drop-shadow(0px 1px 2px rgba(0, 0, 0, 0.3));\n",
              "      fill: #FFFFFF;\n",
              "    }\n",
              "  </style>\n",
              "\n",
              "    <script>\n",
              "      const buttonEl =\n",
              "        document.querySelector('#df-5e9617d4-8ad7-445a-bfc8-1e198d05395a button.colab-df-convert');\n",
              "      buttonEl.style.display =\n",
              "        google.colab.kernel.accessAllowed ? 'block' : 'none';\n",
              "\n",
              "      async function convertToInteractive(key) {\n",
              "        const element = document.querySelector('#df-5e9617d4-8ad7-445a-bfc8-1e198d05395a');\n",
              "        const dataTable =\n",
              "          await google.colab.kernel.invokeFunction('convertToInteractive',\n",
              "                                                    [key], {});\n",
              "        if (!dataTable) return;\n",
              "\n",
              "        const docLinkHtml = 'Like what you see? Visit the ' +\n",
              "          '<a target=\"_blank\" href=https://colab.research.google.com/notebooks/data_table.ipynb>data table notebook</a>'\n",
              "          + ' to learn more about interactive tables.';\n",
              "        element.innerHTML = '';\n",
              "        dataTable['output_type'] = 'display_data';\n",
              "        await google.colab.output.renderOutput(dataTable, element);\n",
              "        const docLink = document.createElement('div');\n",
              "        docLink.innerHTML = docLinkHtml;\n",
              "        element.appendChild(docLink);\n",
              "      }\n",
              "    </script>\n",
              "  </div>\n",
              "\n",
              "\n",
              "    <div id=\"df-6d1ce8ba-db08-4b10-95b5-b52531f2cf44\">\n",
              "      <button class=\"colab-df-quickchart\" onclick=\"quickchart('df-6d1ce8ba-db08-4b10-95b5-b52531f2cf44')\"\n",
              "                title=\"Suggest charts\"\n",
              "                style=\"display:none;\">\n",
              "\n",
              "<svg xmlns=\"http://www.w3.org/2000/svg\" height=\"24px\"viewBox=\"0 0 24 24\"\n",
              "     width=\"24px\">\n",
              "    <g>\n",
              "        <path d=\"M19 3H5c-1.1 0-2 .9-2 2v14c0 1.1.9 2 2 2h14c1.1 0 2-.9 2-2V5c0-1.1-.9-2-2-2zM9 17H7v-7h2v7zm4 0h-2V7h2v10zm4 0h-2v-4h2v4z\"/>\n",
              "    </g>\n",
              "</svg>\n",
              "      </button>\n",
              "\n",
              "<style>\n",
              "  .colab-df-quickchart {\n",
              "      --bg-color: #E8F0FE;\n",
              "      --fill-color: #1967D2;\n",
              "      --hover-bg-color: #E2EBFA;\n",
              "      --hover-fill-color: #174EA6;\n",
              "      --disabled-fill-color: #AAA;\n",
              "      --disabled-bg-color: #DDD;\n",
              "  }\n",
              "\n",
              "  [theme=dark] .colab-df-quickchart {\n",
              "      --bg-color: #3B4455;\n",
              "      --fill-color: #D2E3FC;\n",
              "      --hover-bg-color: #434B5C;\n",
              "      --hover-fill-color: #FFFFFF;\n",
              "      --disabled-bg-color: #3B4455;\n",
              "      --disabled-fill-color: #666;\n",
              "  }\n",
              "\n",
              "  .colab-df-quickchart {\n",
              "    background-color: var(--bg-color);\n",
              "    border: none;\n",
              "    border-radius: 50%;\n",
              "    cursor: pointer;\n",
              "    display: none;\n",
              "    fill: var(--fill-color);\n",
              "    height: 32px;\n",
              "    padding: 0;\n",
              "    width: 32px;\n",
              "  }\n",
              "\n",
              "  .colab-df-quickchart:hover {\n",
              "    background-color: var(--hover-bg-color);\n",
              "    box-shadow: 0 1px 2px rgba(60, 64, 67, 0.3), 0 1px 3px 1px rgba(60, 64, 67, 0.15);\n",
              "    fill: var(--button-hover-fill-color);\n",
              "  }\n",
              "\n",
              "  .colab-df-quickchart-complete:disabled,\n",
              "  .colab-df-quickchart-complete:disabled:hover {\n",
              "    background-color: var(--disabled-bg-color);\n",
              "    fill: var(--disabled-fill-color);\n",
              "    box-shadow: none;\n",
              "  }\n",
              "\n",
              "  .colab-df-spinner {\n",
              "    border: 2px solid var(--fill-color);\n",
              "    border-color: transparent;\n",
              "    border-bottom-color: var(--fill-color);\n",
              "    animation:\n",
              "      spin 1s steps(1) infinite;\n",
              "  }\n",
              "\n",
              "  @keyframes spin {\n",
              "    0% {\n",
              "      border-color: transparent;\n",
              "      border-bottom-color: var(--fill-color);\n",
              "      border-left-color: var(--fill-color);\n",
              "    }\n",
              "    20% {\n",
              "      border-color: transparent;\n",
              "      border-left-color: var(--fill-color);\n",
              "      border-top-color: var(--fill-color);\n",
              "    }\n",
              "    30% {\n",
              "      border-color: transparent;\n",
              "      border-left-color: var(--fill-color);\n",
              "      border-top-color: var(--fill-color);\n",
              "      border-right-color: var(--fill-color);\n",
              "    }\n",
              "    40% {\n",
              "      border-color: transparent;\n",
              "      border-right-color: var(--fill-color);\n",
              "      border-top-color: var(--fill-color);\n",
              "    }\n",
              "    60% {\n",
              "      border-color: transparent;\n",
              "      border-right-color: var(--fill-color);\n",
              "    }\n",
              "    80% {\n",
              "      border-color: transparent;\n",
              "      border-right-color: var(--fill-color);\n",
              "      border-bottom-color: var(--fill-color);\n",
              "    }\n",
              "    90% {\n",
              "      border-color: transparent;\n",
              "      border-bottom-color: var(--fill-color);\n",
              "    }\n",
              "  }\n",
              "</style>\n",
              "\n",
              "      <script>\n",
              "        async function quickchart(key) {\n",
              "          const quickchartButtonEl =\n",
              "            document.querySelector('#' + key + ' button');\n",
              "          quickchartButtonEl.disabled = true;  // To prevent multiple clicks.\n",
              "          quickchartButtonEl.classList.add('colab-df-spinner');\n",
              "          try {\n",
              "            const charts = await google.colab.kernel.invokeFunction(\n",
              "                'suggestCharts', [key], {});\n",
              "          } catch (error) {\n",
              "            console.error('Error during call to suggestCharts:', error);\n",
              "          }\n",
              "          quickchartButtonEl.classList.remove('colab-df-spinner');\n",
              "          quickchartButtonEl.classList.add('colab-df-quickchart-complete');\n",
              "        }\n",
              "        (() => {\n",
              "          let quickchartButtonEl =\n",
              "            document.querySelector('#df-6d1ce8ba-db08-4b10-95b5-b52531f2cf44 button');\n",
              "          quickchartButtonEl.style.display =\n",
              "            google.colab.kernel.accessAllowed ? 'block' : 'none';\n",
              "        })();\n",
              "      </script>\n",
              "    </div>\n",
              "\n",
              "    </div>\n",
              "  </div>\n"
            ],
            "application/vnd.google.colaboratory.intrinsic+json": {
              "type": "dataframe",
              "variable_name": "df",
              "summary": "{\n  \"name\": \"df\",\n  \"rows\": 100,\n  \"fields\": [\n    {\n      \"column\": \"x\",\n      \"properties\": {\n        \"dtype\": \"number\",\n        \"std\": 3.516544481925093,\n        \"min\": 0.0,\n        \"max\": 12.0,\n        \"num_unique_values\": 100,\n        \"samples\": [\n          10.06060606060606,\n          6.424242424242425,\n          8.484848484848484\n        ],\n        \"semantic_type\": \"\",\n        \"description\": \"\"\n      }\n    },\n    {\n      \"column\": \"y\",\n      \"properties\": {\n        \"dtype\": \"number\",\n        \"std\": 4.878958943319209,\n        \"min\": -16.195200274544874,\n        \"max\": 9.17366329371878,\n        \"num_unique_values\": 100,\n        \"samples\": [\n          -7.789303435459762,\n          6.158599996007003,\n          -6.575615673211183\n        ],\n        \"semantic_type\": \"\",\n        \"description\": \"\"\n      }\n    }\n  ]\n}"
            }
          },
          "metadata": {},
          "execution_count": 1
        }
      ],
      "source": [
        "# Run this cell without changes\n",
        "import numpy as np\n",
        "import pandas as pd\n",
        "import matplotlib.pyplot as plt\n",
        "%matplotlib inline\n",
        "\n",
        "df = pd.read_csv('sample_data.csv')\n",
        "df.head()"
      ]
    },
    {
      "cell_type": "markdown",
      "metadata": {
        "id": "hv66O5FyjhhD"
      },
      "source": [
        "Let's check out a scatter plot of `x` vs. `y`:"
      ]
    },
    {
      "cell_type": "code",
      "execution_count": 2,
      "metadata": {
        "colab": {
          "base_uri": "https://localhost:8080/",
          "height": 449
        },
        "id": "wNNxB76cjhhE",
        "outputId": "62b568e2-f275-4dc3-ee02-d655c1907d96"
      },
      "outputs": [
        {
          "output_type": "display_data",
          "data": {
            "text/plain": [
              "<Figure size 640x480 with 1 Axes>"
            ],
            "image/png": "[encoded data removed]"
          },
          "metadata": {}
        }
      ],
      "source": [
        "# Run this cell without changes\n",
        "df.plot.scatter(x=\"x\", y=\"y\");"
      ]
    },
    {
      "cell_type": "markdown",
      "metadata": {
        "id": "gUPAjBPwjhhE"
      },
      "source": [
        "You will notice that the data is clearly of non-linear shape. Begin to think about what degree polynomial you believe will fit it best.\n",
        "\n",
        "You will fit several different models with different polynomial degrees, then plot them in the same plot at the end."
      ]
    },
    {
      "cell_type": "code",
      "execution_count": 13,
      "metadata": {
        "id": "-uzhiDntjhhF"
      },
      "outputs": [],
      "source": [
        "# Your code here - import StatsModels and separate the data into X and y\n",
        "import statsmodels.api as sm\n",
        "X = df['x'].values.reshape(-1,1)\n",
        "y = df['y'].values"
      ]
    },
    {
      "cell_type": "markdown",
      "metadata": {
        "id": "BSgkiTSajhhG"
      },
      "source": [
        "## Build and Evaluate a Quadratic Model\n",
        "\n",
        "This model should include a constant, `x`, and `x` squared. You can use `pandas` or `PolynomialFeatures` to create the squared term."
      ]
    },
    {
      "cell_type": "code",
      "execution_count": 27,
      "metadata": {
        "id": "aiRau1xCjhhH"
      },
      "outputs": [],
      "source": [
        "# Your code here - prepare quadratic data and fit a model\n",
        "from sklearn.preprocessing import PolynomialFeatures\n",
        "\n",
        "poly_2 = PolynomialFeatures(2)\n",
        "x_poly_2 = poly_2.fit_transform(X)\n",
        "\n",
        "poly_results_2 = sm.OLS(y, x_poly_2).fit()\n"
      ]
    },
    {
      "cell_type": "code",
      "execution_count": 28,
      "metadata": {
        "colab": {
          "base_uri": "https://localhost:8080/"
        },
        "id": "ZwA3a5HRjhhH",
        "outputId": "ef939741-741b-4199-fdfc-77197a30a8dd"
      },
      "outputs": [
        {
          "output_type": "stream",
          "name": "stdout",
          "text": [
            "                            OLS Regression Results                            \n",
            "==============================================================================\n",
            "Dep. Variable:                      y   R-squared:                       0.005\n",
            "Model:                            OLS   Adj. R-squared:                 -0.016\n",
            "Method:                 Least Squares   F-statistic:                    0.2366\n",
            "Date:                Sat, 30 Aug 2025   Prob (F-statistic):              0.790\n",
            "Time:                        22:42:47   Log-Likelihood:                -299.64\n",
            "No. Observations:                 100   AIC:                             605.3\n",
            "Df Residuals:                      97   BIC:                             613.1\n",
            "Df Model:                           2                                         \n",
            "Covariance Type:            nonrobust                                         \n",
            "==============================================================================\n",
            "                 coef    std err          t      P>|t|      [0.025      0.975]\n",
            "------------------------------------------------------------------------------\n",
            "const          0.1127      1.446      0.078      0.938      -2.757       2.983\n",
            "x1            -0.0744      0.557     -0.134      0.894      -1.180       1.031\n",
            "x2            -0.0018      0.045     -0.041      0.967      -0.091       0.087\n",
            "==============================================================================\n",
            "Omnibus:                        1.048   Durbin-Watson:                   0.426\n",
            "Prob(Omnibus):                  0.592   Jarque-Bera (JB):                0.803\n",
            "Skew:                          -0.219   Prob(JB):                        0.669\n",
            "Kurtosis:                       3.037   Cond. No.                         203.\n",
            "==============================================================================\n",
            "\n",
            "Notes:\n",
            "[1] Standard Errors assume that the covariance matrix of the errors is correctly specified.\n"
          ]
        }
      ],
      "source": [
        "# Your code here - evaluate (adjusted) R-Squared and coefficient p-values\n",
        "\n",
        "print(poly_results_2.summary())"
      ]
    },
    {
      "cell_type": "code",
      "execution_count": 18,
      "metadata": {
        "id": "7e7_vvxLjhhI"
      },
      "outputs": [],
      "source": [
        "# Your written answer here - summarize findings\n",
        "# This is not a good model. Because we have multiple terms and are explaining\n",
        "# so little of the variance in y, we actually have a negative adjusted R-Squared.\n",
        "# None of the coefficients are statistically significant at an alpha of 0.05"
      ]
    },
    {
      "cell_type": "markdown",
      "metadata": {
        "id": "fiom5wAhjhhJ"
      },
      "source": [
        "<details>\n",
        "    <summary style=\"cursor: pointer\"><b>Answer (click to reveal)</b></summary>\n",
        "    \n",
        "This is not a good model. Because we have multiple terms and are explaining so little of the variance in `y`, we actually have a negative adjusted R-Squared.\n",
        "\n",
        "None of the coefficients are statistically significant at an alpha of 0.05\n",
        "    \n",
        "</details>"
      ]
    },
    {
      "cell_type": "markdown",
      "metadata": {
        "id": "lEQNrXpSjhhK"
      },
      "source": [
        "## Build and Evaluate a 4th Degree Polynomial Model\n",
        "\n",
        "In other words, the model should include $x^0$ (intercept), $x^1$, $x^2$, $x^3$, and $x^4$ terms.\n",
        "\n",
        "At this point we recommend importing and using `PolynomialFeatures` if you haven't already!"
      ]
    },
    {
      "cell_type": "code",
      "execution_count": 30,
      "metadata": {
        "id": "-v_cxLhgjhhK"
      },
      "outputs": [],
      "source": [
        "# Your code here - prepare 4th degree polynomial data and fit a model\n",
        "from sklearn.preprocessing import PolynomialFeatures\n",
        "\n",
        "poly_4 = PolynomialFeatures(4)\n",
        "x_poly_4 = poly_4.fit_transform(X)\n",
        "\n",
        "poly_results_4 = sm.OLS(y, x_poly_4).fit()\n"
      ]
    },
    {
      "cell_type": "code",
      "execution_count": 31,
      "metadata": {
        "colab": {
          "base_uri": "https://localhost:8080/"
        },
        "id": "X-mf4XsljhhL",
        "outputId": "b3eb785a-3ad6-4ab6-d663-f12269c40326"
      },
      "outputs": [
        {
          "output_type": "stream",
          "name": "stdout",
          "text": [
            "                            OLS Regression Results                            \n",
            "==============================================================================\n",
            "Dep. Variable:                      y   R-squared:                       0.584\n",
            "Model:                            OLS   Adj. R-squared:                  0.567\n",
            "Method:                 Least Squares   F-statistic:                     33.38\n",
            "Date:                Sat, 30 Aug 2025   Prob (F-statistic):           2.24e-17\n",
            "Time:                        22:43:16   Log-Likelihood:                -255.99\n",
            "No. Observations:                 100   AIC:                             522.0\n",
            "Df Residuals:                      95   BIC:                             535.0\n",
            "Df Model:                           4                                         \n",
            "Covariance Type:            nonrobust                                         \n",
            "==============================================================================\n",
            "                 coef    std err          t      P>|t|      [0.025      0.975]\n",
            "------------------------------------------------------------------------------\n",
            "const          5.8590      1.514      3.870      0.000       2.853       8.864\n",
            "x1           -12.6406      1.767     -7.155      0.000     -16.148      -9.133\n",
            "x2             5.3802      0.603      8.921      0.000       4.183       6.577\n",
            "x3            -0.7563      0.076     -9.992      0.000      -0.907      -0.606\n",
            "x4             0.0333      0.003     10.632      0.000       0.027       0.039\n",
            "==============================================================================\n",
            "Omnibus:                        1.211   Durbin-Watson:                   1.007\n",
            "Prob(Omnibus):                  0.546   Jarque-Bera (JB):                1.177\n",
            "Skew:                          -0.257   Prob(JB):                        0.555\n",
            "Kurtosis:                       2.861   Cond. No.                     5.08e+04\n",
            "==============================================================================\n",
            "\n",
            "Notes:\n",
            "[1] Standard Errors assume that the covariance matrix of the errors is correctly specified.\n",
            "[2] The condition number is large, 5.08e+04. This might indicate that there are\n",
            "strong multicollinearity or other numerical problems.\n"
          ]
        }
      ],
      "source": [
        "# Your code here - evaluate (adjusted) R-Squared and coefficient p-values\n",
        "print(poly_results_4.summary())"
      ]
    },
    {
      "cell_type": "code",
      "execution_count": null,
      "metadata": {
        "id": "Bn4IIj8tjhhM"
      },
      "outputs": [],
      "source": [
        "# Your written answer here - summarize findings\n",
        "# This is much better. We are explaining 57-58% of the variance in the target\n",
        "# and all of our coefficients are statistically significant at an alpha of 0.05."
      ]
    },
    {
      "cell_type": "markdown",
      "metadata": {
        "id": "P197sFlHjhhM"
      },
      "source": [
        "<details>\n",
        "    <summary style=\"cursor: pointer\"><b>Answer (click to reveal)</b></summary>\n",
        "    \n",
        "This is much better. We are explaining 57-58% of the variance in the target and all of our coefficients are statistically significant at an alpha of 0.05.\n",
        "    \n",
        "</details>"
      ]
    },
    {
      "cell_type": "markdown",
      "metadata": {
        "id": "6KjbtMwijhhN"
      },
      "source": [
        "## Build and Evaluate an 8th Degree Polynomial Model\n",
        "\n",
        "This model should include $x^0$ through $x^8$."
      ]
    },
    {
      "cell_type": "code",
      "execution_count": 32,
      "metadata": {
        "id": "zSb1EQ20jhhO"
      },
      "outputs": [],
      "source": [
        "# Your code here - prepare 8th degree polynomial data and fit a model\n",
        "from sklearn.preprocessing import PolynomialFeatures\n",
        "\n",
        "poly_8 = PolynomialFeatures(8)\n",
        "x_poly_8 = poly_8.fit_transform(X)\n",
        "\n",
        "poly_results_8 = sm.OLS(y, x_poly_8).fit()"
      ]
    },
    {
      "cell_type": "code",
      "execution_count": 33,
      "metadata": {
        "colab": {
          "base_uri": "https://localhost:8080/"
        },
        "id": "h0ygWOHGjhhO",
        "outputId": "559f21f0-ec09-480b-e0e6-9765d901410e"
      },
      "outputs": [
        {
          "output_type": "stream",
          "name": "stdout",
          "text": [
            "                            OLS Regression Results                            \n",
            "==============================================================================\n",
            "Dep. Variable:                      y   R-squared:                       0.834\n",
            "Model:                            OLS   Adj. R-squared:                  0.819\n",
            "Method:                 Least Squares   F-statistic:                     56.95\n",
            "Date:                Sat, 30 Aug 2025   Prob (F-statistic):           3.93e-32\n",
            "Time:                        22:45:22   Log-Likelihood:                -210.25\n",
            "No. Observations:                 100   AIC:                             438.5\n",
            "Df Residuals:                      91   BIC:                             461.9\n",
            "Df Model:                           8                                         \n",
            "Covariance Type:            nonrobust                                         \n",
            "==============================================================================\n",
            "                 coef    std err          t      P>|t|      [0.025      0.975]\n",
            "------------------------------------------------------------------------------\n",
            "const          0.6335      1.550      0.409      0.684      -2.446       3.713\n",
            "x1            -3.1197      6.237     -0.500      0.618     -15.508       9.269\n",
            "x2             7.2069      8.019      0.899      0.371      -8.722      23.135\n",
            "x3            -5.9515      4.602     -1.293      0.199     -15.092       3.189\n",
            "x4             2.0415      1.388      1.471      0.145      -0.716       4.799\n",
            "x5            -0.3359      0.236     -1.425      0.158      -0.804       0.132\n",
            "x6             0.0276      0.023      1.220      0.226      -0.017       0.073\n",
            "x7            -0.0011      0.001     -0.925      0.357      -0.003       0.001\n",
            "x8          1.418e-05   2.39e-05      0.594      0.554   -3.33e-05    6.16e-05\n",
            "==============================================================================\n",
            "Omnibus:                       11.607   Durbin-Watson:                   2.456\n",
            "Prob(Omnibus):                  0.003   Jarque-Bera (JB):               12.576\n",
            "Skew:                          -0.700   Prob(JB):                      0.00186\n",
            "Kurtosis:                       4.030   Cond. No.                     5.83e+09\n",
            "==============================================================================\n",
            "\n",
            "Notes:\n",
            "[1] Standard Errors assume that the covariance matrix of the errors is correctly specified.\n",
            "[2] The condition number is large, 5.83e+09. This might indicate that there are\n",
            "strong multicollinearity or other numerical problems.\n"
          ]
        }
      ],
      "source": [
        "# Your code here - evaluate (adjusted) R-Squared and coefficient p-values\n",
        "print(poly_results_8.summary())"
      ]
    },
    {
      "cell_type": "code",
      "execution_count": null,
      "metadata": {
        "id": "mcSMHNdmjhhP"
      },
      "outputs": [],
      "source": [
        "# Your written answer here - summarize findings\n",
        "# Our R-Squared is higher, but none of the coefficients are statistically significant at an alpha of 0.05 any more.\n",
        "# If what we care about is an inferential understanding of the data, this is too high a degree of the polynomial."
      ]
    },
    {
      "cell_type": "markdown",
      "metadata": {
        "id": "aWuzxPQ6jhhP"
      },
      "source": [
        "<details>\n",
        "    <summary style=\"cursor: pointer\"><b>Answer (click to reveal)</b></summary>\n",
        "    \n",
        "Our R-Squared is higher, but none of the coefficients are statistically significant at an alpha of 0.05 any more. If what we care about is an inferential understanding of the data, this is too high a degree of the polynomial.\n",
        "    \n",
        "</details>"
      ]
    },
    {
      "cell_type": "markdown",
      "metadata": {
        "id": "ZqkiWZzRjhhQ"
      },
      "source": [
        "## Plot All Models\n",
        "\n",
        "Build a single plot that shows the raw data as a scatter plot, as well as all of the models you have developed as line graphs. Make sure that everything is labeled so you can tell the different models apart!"
      ]
    },
    {
      "cell_type": "code",
      "execution_count": 35,
      "metadata": {
        "colab": {
          "base_uri": "https://localhost:8080/",
          "height": 564
        },
        "id": "klxM1U22jhhR",
        "outputId": "b31adb86-f227-405c-915c-5d86073a6095"
      },
      "outputs": [
        {
          "output_type": "display_data",
          "data": {
            "text/plain": [
              "<Figure size 1000x600 with 1 Axes>"
            ],
            "image/png": "[encoded data removed]"
          },
          "metadata": {}
        }
      ],
      "source": [
        "# Your code here\n",
        "# Create a range of x values for plotting the models\n",
        "x_plot = np.linspace(X.min(), X.max(), 100).reshape(-1, 1)\n",
        "\n",
        "# Predict y values for each model\n",
        "y_pred_2 = poly_results_2.predict(poly_2.transform(x_plot))\n",
        "y_pred_4 = poly_results_4.predict(poly_4.transform(x_plot))\n",
        "y_pred_8 = poly_results_8.predict(poly_8.transform(x_plot))\n",
        "\n",
        "# Plot the raw data\n",
        "plt.figure(figsize=(10, 6))\n",
        "plt.scatter(df['x'], df['y'], label='Raw Data')\n",
        "\n",
        "# Plot the models\n",
        "plt.plot(x_plot, y_pred_2, color='red', label='Quadratic Model (Degree 2)')\n",
        "plt.plot(x_plot, y_pred_4, color='green', label='4th Degree Polynomial Model')\n",
        "plt.plot(x_plot, y_pred_8, color='purple', label='8th Degree Polynomial Model')\n",
        "\n",
        "# Add labels and title\n",
        "plt.xlabel('x')\n",
        "plt.ylabel('y')\n",
        "plt.title('Polynomial Regression Models')\n",
        "plt.legend()\n",
        "plt.grid(True)\n",
        "plt.show()"
      ]
    },
    {
      "cell_type": "markdown",
      "metadata": {
        "id": "xMH42fyjjhhS"
      },
      "source": [
        "### Interpret Findings\n",
        "\n",
        "Based on the metrics as well as the graphs, which model do you think is the best? Why?"
      ]
    },
    {
      "cell_type": "code",
      "execution_count": null,
      "metadata": {
        "id": "ZNDRCam0jhhS"
      },
      "outputs": [],
      "source": [
        "# Your written answer here\n",
        "# The quadratic model (polynomial degree 2) is definitely not the best based on\n",
        "# all of the evidence we have. It has the worst R-Squared, the coefficient p-values\n",
        "# are not significant, and you can see from the graph that there is a lot of\n",
        "#variance in the data that it is not picking up on\n",
        "\n",
        "# Our visual inspection aligns with the worse R-Squared for the 4th degree polynomial\n",
        "# compared to the 8th degree polynomial. The 4th degree polynomial is flatter and\n",
        "# doesn't seem to capture the extremes of the data as well.\n",
        "\n",
        "# However if we wanted to interpret the coefficients, then only the 4th degree\n",
        "# polynomial has statistically significant results. The interpretation would be\n",
        "# challenging because of the number of terms, but we could apply some calculus\n",
        "# techniques to describe inflection points.\n",
        "\n",
        "# Overall it appears that this dataset is not particularly well suited to an\n",
        "# inferential linear regression approach, even with polynomial transformations.\n",
        "# So the \"best\" model could be either the 4th or 8th degree polynomial depending\n",
        "# on which aspect of the model is more important to you, but either way it will\n",
        "# be challenging to translate it into insights for stakeholders."
      ]
    },
    {
      "cell_type": "markdown",
      "metadata": {
        "id": "qrg4UrvgjhhT"
      },
      "source": [
        "<details>\n",
        "    <summary style=\"cursor: pointer\"><b>Answer (click to reveal)</b></summary>\n",
        "    \n",
        "The quadratic model (polynomial degree 2) is definitely not the best based on all of the evidence we have. It has the worst R-Squared, the coefficient p-values are not significant, and you can see from the graph that there is a lot of variance in the data that it is not picking up on.\n",
        "\n",
        "Our visual inspection aligns with the worse R-Squared for the 4th degree polynomial compared to the 8th degree polynomial. The 4th degree polynomial is flatter and doesn't seem to capture the extremes of the data as well.\n",
        "    \n",
        "However if we wanted to interpret the coefficients, then only the 4th degree polynomial has statistically significant results. The interpretation would be challenging because of the number of terms, but we could apply some calculus techniques to describe inflection points.\n",
        "\n",
        "Overall it appears that this dataset is not particularly well suited to an inferential linear regression approach, even with polynomial transformations. So the \"best\" model could be either the 4th or 8th degree polynomial depending on which aspect of the model is more important to you, but either way it will be challenging to translate it into insights for stakeholders.\n",
        "    \n",
        "</details>"
      ]
    },
    {
      "cell_type": "markdown",
      "metadata": {
        "id": "8uMx7MykjhhV"
      },
      "source": [
        "## Summary"
      ]
    },
    {
      "cell_type": "markdown",
      "metadata": {
        "id": "4hFn0EKIjhhV"
      },
      "source": [
        "Great job! You now know how to include polynomials in your linear models as well as the limitations of applying polynomial regression."
      ]
    }
  ],
  "metadata": {
    "kernelspec": {
      "display_name": "Python (learn-env)",
      "language": "python",
      "name": "learn-env"
    },
    "language_info": {
      "codemirror_mode": {
        "name": "ipython",
        "version": 3
      },
      "file_extension": ".py",
      "mimetype": "text/x-python",
      "name": "python",
      "nbconvert_exporter": "python",
      "pygments_lexer": "ipython3",
      "version": "3.8.5"
    },
    "colab": {
      "provenance": []
    }
  },
  "nbformat": 4,
  "nbformat_minor": 0
}